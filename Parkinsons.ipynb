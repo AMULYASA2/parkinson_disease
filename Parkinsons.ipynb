{
 "cells": [
  {
   "cell_type": "code",
   "execution_count": 1,
   "id": "c4c09ca2-37cd-440b-926c-e62a177dfeb2",
   "metadata": {},
   "outputs": [],
   "source": [
    "import pandas as pd\n",
    "import pylab as pl\n",
    "import numpy as np\n",
    "import os\n",
    "import seaborn as sns\n",
    "import scipy.optimize as opt\n",
    "from sklearn.model_selection import train_test_split\n",
    "from sklearn.preprocessing import normalize, StandardScaler\n",
    "from sklearn.utils.class_weight import compute_sample_weight\n",
    "from sklearn.metrics import roc_auc_score\n",
    "%matplotlib inline \n",
    "import matplotlib.pyplot as plt"
   ]
  },
  {
   "cell_type": "code",
   "execution_count": 10,
   "id": "488ee588-4735-49c6-a437-d547fe4324fb",
   "metadata": {},
   "outputs": [
    {
     "data": {
      "text/html": [
       "<div>\n",
       "<style scoped>\n",
       "    .dataframe tbody tr th:only-of-type {\n",
       "        vertical-align: middle;\n",
       "    }\n",
       "\n",
       "    .dataframe tbody tr th {\n",
       "        vertical-align: top;\n",
       "    }\n",
       "\n",
       "    .dataframe thead th {\n",
       "        text-align: right;\n",
       "    }\n",
       "</style>\n",
       "<table border=\"1\" class=\"dataframe\">\n",
       "  <thead>\n",
       "    <tr style=\"text-align: right;\">\n",
       "      <th></th>\n",
       "      <th>id</th>\n",
       "      <th>gender</th>\n",
       "      <th>PPE</th>\n",
       "      <th>DFA</th>\n",
       "      <th>RPDE</th>\n",
       "      <th>numPulses</th>\n",
       "      <th>numPeriodsPulses</th>\n",
       "      <th>meanPeriodPulses</th>\n",
       "      <th>stdDevPeriodPulses</th>\n",
       "      <th>locPctJitter</th>\n",
       "      <th>...</th>\n",
       "      <th>tqwt_kurtosisValue_dec_28</th>\n",
       "      <th>tqwt_kurtosisValue_dec_29</th>\n",
       "      <th>tqwt_kurtosisValue_dec_30</th>\n",
       "      <th>tqwt_kurtosisValue_dec_31</th>\n",
       "      <th>tqwt_kurtosisValue_dec_32</th>\n",
       "      <th>tqwt_kurtosisValue_dec_33</th>\n",
       "      <th>tqwt_kurtosisValue_dec_34</th>\n",
       "      <th>tqwt_kurtosisValue_dec_35</th>\n",
       "      <th>tqwt_kurtosisValue_dec_36</th>\n",
       "      <th>class</th>\n",
       "    </tr>\n",
       "  </thead>\n",
       "  <tbody>\n",
       "    <tr>\n",
       "      <th>0</th>\n",
       "      <td>0</td>\n",
       "      <td>1</td>\n",
       "      <td>0.85247</td>\n",
       "      <td>0.71826</td>\n",
       "      <td>0.57227</td>\n",
       "      <td>240</td>\n",
       "      <td>239</td>\n",
       "      <td>0.008064</td>\n",
       "      <td>0.000087</td>\n",
       "      <td>0.00218</td>\n",
       "      <td>...</td>\n",
       "      <td>1.5620</td>\n",
       "      <td>2.6445</td>\n",
       "      <td>3.8686</td>\n",
       "      <td>4.2105</td>\n",
       "      <td>5.1221</td>\n",
       "      <td>4.4625</td>\n",
       "      <td>2.6202</td>\n",
       "      <td>3.0004</td>\n",
       "      <td>18.9405</td>\n",
       "      <td>1</td>\n",
       "    </tr>\n",
       "    <tr>\n",
       "      <th>1</th>\n",
       "      <td>0</td>\n",
       "      <td>1</td>\n",
       "      <td>0.76686</td>\n",
       "      <td>0.69481</td>\n",
       "      <td>0.53966</td>\n",
       "      <td>234</td>\n",
       "      <td>233</td>\n",
       "      <td>0.008258</td>\n",
       "      <td>0.000073</td>\n",
       "      <td>0.00195</td>\n",
       "      <td>...</td>\n",
       "      <td>1.5589</td>\n",
       "      <td>3.6107</td>\n",
       "      <td>23.5155</td>\n",
       "      <td>14.1962</td>\n",
       "      <td>11.0261</td>\n",
       "      <td>9.5082</td>\n",
       "      <td>6.5245</td>\n",
       "      <td>6.3431</td>\n",
       "      <td>45.1780</td>\n",
       "      <td>1</td>\n",
       "    </tr>\n",
       "    <tr>\n",
       "      <th>2</th>\n",
       "      <td>0</td>\n",
       "      <td>1</td>\n",
       "      <td>0.85083</td>\n",
       "      <td>0.67604</td>\n",
       "      <td>0.58982</td>\n",
       "      <td>232</td>\n",
       "      <td>231</td>\n",
       "      <td>0.008340</td>\n",
       "      <td>0.000060</td>\n",
       "      <td>0.00176</td>\n",
       "      <td>...</td>\n",
       "      <td>1.5643</td>\n",
       "      <td>2.3308</td>\n",
       "      <td>9.4959</td>\n",
       "      <td>10.7458</td>\n",
       "      <td>11.0177</td>\n",
       "      <td>4.8066</td>\n",
       "      <td>2.9199</td>\n",
       "      <td>3.1495</td>\n",
       "      <td>4.7666</td>\n",
       "      <td>1</td>\n",
       "    </tr>\n",
       "    <tr>\n",
       "      <th>3</th>\n",
       "      <td>1</td>\n",
       "      <td>0</td>\n",
       "      <td>0.41121</td>\n",
       "      <td>0.79672</td>\n",
       "      <td>0.59257</td>\n",
       "      <td>178</td>\n",
       "      <td>177</td>\n",
       "      <td>0.010858</td>\n",
       "      <td>0.000183</td>\n",
       "      <td>0.00419</td>\n",
       "      <td>...</td>\n",
       "      <td>3.7805</td>\n",
       "      <td>3.5664</td>\n",
       "      <td>5.2558</td>\n",
       "      <td>14.0403</td>\n",
       "      <td>4.2235</td>\n",
       "      <td>4.6857</td>\n",
       "      <td>4.8460</td>\n",
       "      <td>6.2650</td>\n",
       "      <td>4.0603</td>\n",
       "      <td>1</td>\n",
       "    </tr>\n",
       "    <tr>\n",
       "      <th>4</th>\n",
       "      <td>1</td>\n",
       "      <td>0</td>\n",
       "      <td>0.32790</td>\n",
       "      <td>0.79782</td>\n",
       "      <td>0.53028</td>\n",
       "      <td>236</td>\n",
       "      <td>235</td>\n",
       "      <td>0.008162</td>\n",
       "      <td>0.002669</td>\n",
       "      <td>0.00535</td>\n",
       "      <td>...</td>\n",
       "      <td>6.1727</td>\n",
       "      <td>5.8416</td>\n",
       "      <td>6.0805</td>\n",
       "      <td>5.7621</td>\n",
       "      <td>7.7817</td>\n",
       "      <td>11.6891</td>\n",
       "      <td>8.2103</td>\n",
       "      <td>5.0559</td>\n",
       "      <td>6.1164</td>\n",
       "      <td>1</td>\n",
       "    </tr>\n",
       "  </tbody>\n",
       "</table>\n",
       "<p>5 rows × 755 columns</p>\n",
       "</div>"
      ],
      "text/plain": [
       "   id  gender      PPE      DFA     RPDE  numPulses  numPeriodsPulses  \\\n",
       "0   0       1  0.85247  0.71826  0.57227        240               239   \n",
       "1   0       1  0.76686  0.69481  0.53966        234               233   \n",
       "2   0       1  0.85083  0.67604  0.58982        232               231   \n",
       "3   1       0  0.41121  0.79672  0.59257        178               177   \n",
       "4   1       0  0.32790  0.79782  0.53028        236               235   \n",
       "\n",
       "   meanPeriodPulses  stdDevPeriodPulses  locPctJitter  ...  \\\n",
       "0          0.008064            0.000087       0.00218  ...   \n",
       "1          0.008258            0.000073       0.00195  ...   \n",
       "2          0.008340            0.000060       0.00176  ...   \n",
       "3          0.010858            0.000183       0.00419  ...   \n",
       "4          0.008162            0.002669       0.00535  ...   \n",
       "\n",
       "   tqwt_kurtosisValue_dec_28  tqwt_kurtosisValue_dec_29  \\\n",
       "0                     1.5620                     2.6445   \n",
       "1                     1.5589                     3.6107   \n",
       "2                     1.5643                     2.3308   \n",
       "3                     3.7805                     3.5664   \n",
       "4                     6.1727                     5.8416   \n",
       "\n",
       "   tqwt_kurtosisValue_dec_30  tqwt_kurtosisValue_dec_31  \\\n",
       "0                     3.8686                     4.2105   \n",
       "1                    23.5155                    14.1962   \n",
       "2                     9.4959                    10.7458   \n",
       "3                     5.2558                    14.0403   \n",
       "4                     6.0805                     5.7621   \n",
       "\n",
       "   tqwt_kurtosisValue_dec_32  tqwt_kurtosisValue_dec_33  \\\n",
       "0                     5.1221                     4.4625   \n",
       "1                    11.0261                     9.5082   \n",
       "2                    11.0177                     4.8066   \n",
       "3                     4.2235                     4.6857   \n",
       "4                     7.7817                    11.6891   \n",
       "\n",
       "   tqwt_kurtosisValue_dec_34  tqwt_kurtosisValue_dec_35  \\\n",
       "0                     2.6202                     3.0004   \n",
       "1                     6.5245                     6.3431   \n",
       "2                     2.9199                     3.1495   \n",
       "3                     4.8460                     6.2650   \n",
       "4                     8.2103                     5.0559   \n",
       "\n",
       "   tqwt_kurtosisValue_dec_36  class  \n",
       "0                    18.9405      1  \n",
       "1                    45.1780      1  \n",
       "2                     4.7666      1  \n",
       "3                     4.0603      1  \n",
       "4                     6.1164      1  \n",
       "\n",
       "[5 rows x 755 columns]"
      ]
     },
     "execution_count": 10,
     "metadata": {},
     "output_type": "execute_result"
    }
   ],
   "source": [
    "parkinson_ox = pd.read_csv(r\"C:\\Users\\Amulya\\Downloads\\Parkinsons\\Parkinsons.csv\")\n",
    "\n",
    "parkinson_ox.head()"
   ]
  },
  {
   "cell_type": "code",
   "execution_count": 11,
   "id": "063373f0-badd-4684-aad4-67473b20a48b",
   "metadata": {},
   "outputs": [
    {
     "data": {
      "text/plain": [
       "(756, 755)"
      ]
     },
     "execution_count": 11,
     "metadata": {},
     "output_type": "execute_result"
    }
   ],
   "source": [
    "parkinson_ox.shape"
   ]
  },
  {
   "cell_type": "code",
   "execution_count": 15,
   "id": "26df470a-5c68-4d45-91d9-2723bf896fb9",
   "metadata": {},
   "outputs": [
    {
     "data": {
      "text/plain": [
       "0"
      ]
     },
     "execution_count": 15,
     "metadata": {},
     "output_type": "execute_result"
    }
   ],
   "source": [
    "\n",
    "\n",
    "parkinson_ox.isnull().any().sum()"
   ]
  },
  {
   "cell_type": "code",
   "execution_count": 13,
   "id": "f36fe582-4f85-41a8-b4d4-6a7e73a27338",
   "metadata": {},
   "outputs": [
    {
     "data": {
      "text/plain": [
       "Index(['id', 'gender', 'PPE', 'DFA', 'RPDE', 'numPulses', 'numPeriodsPulses',\n",
       "       'meanPeriodPulses', 'stdDevPeriodPulses', 'locPctJitter',\n",
       "       ...\n",
       "       'tqwt_kurtosisValue_dec_28', 'tqwt_kurtosisValue_dec_29',\n",
       "       'tqwt_kurtosisValue_dec_30', 'tqwt_kurtosisValue_dec_31',\n",
       "       'tqwt_kurtosisValue_dec_32', 'tqwt_kurtosisValue_dec_33',\n",
       "       'tqwt_kurtosisValue_dec_34', 'tqwt_kurtosisValue_dec_35',\n",
       "       'tqwt_kurtosisValue_dec_36', 'class'],\n",
       "      dtype='object', length=755)"
      ]
     },
     "execution_count": 13,
     "metadata": {},
     "output_type": "execute_result"
    }
   ],
   "source": [
    "parkinson_ox.columns"
   ]
  },
  {
   "cell_type": "code",
   "execution_count": 14,
   "id": "2a3927c1-9232-4d06-b533-d845f1e29058",
   "metadata": {},
   "outputs": [
    {
     "data": {
      "text/plain": [
       "id                             int64\n",
       "gender                         int64\n",
       "PPE                          float64\n",
       "DFA                          float64\n",
       "RPDE                         float64\n",
       "                              ...   \n",
       "tqwt_kurtosisValue_dec_33    float64\n",
       "tqwt_kurtosisValue_dec_34    float64\n",
       "tqwt_kurtosisValue_dec_35    float64\n",
       "tqwt_kurtosisValue_dec_36    float64\n",
       "class                          int64\n",
       "Length: 755, dtype: object"
      ]
     },
     "execution_count": 14,
     "metadata": {},
     "output_type": "execute_result"
    }
   ],
   "source": [
    "parkinson_ox.dtypes"
   ]
  },
  {
   "cell_type": "code",
   "execution_count": 16,
   "id": "39314f2c-51f1-4e71-8092-ca340f971a08",
   "metadata": {},
   "outputs": [
    {
     "data": {
      "text/plain": [
       "class\n",
       "1    0.746032\n",
       "0    0.253968\n",
       "Name: proportion, dtype: float64"
      ]
     },
     "execution_count": 16,
     "metadata": {},
     "output_type": "execute_result"
    }
   ],
   "source": [
    "parkinson_ox['class'].value_counts(normalize=True)"
   ]
  },
  {
   "cell_type": "code",
   "execution_count": 17,
   "id": "55082cc3-2972-49c6-b4b5-878383f300d6",
   "metadata": {},
   "outputs": [
    {
     "data": {
      "text/plain": [
       "[Text(0.5, 1.0, '0 absent/healthy and 1 present/PD')]"
      ]
     },
     "execution_count": 17,
     "metadata": {},
     "output_type": "execute_result"
    },
    {
     "data": {
      "image/png": "[encoded data removed]",
      "text/plain": [
       "<Figure size 640x480 with 1 Axes>"
      ]
     },
     "metadata": {},
     "output_type": "display_data"
    }
   ],
   "source": [
    "sns.countplot(data=parkinson_ox , x='class', hue='class').set(title = \"0 absent/healthy and 1 present/PD\")"
   ]
  },
  {
   "cell_type": "code",
   "execution_count": 18,
   "id": "0f8726f5-d72a-4a89-806c-02407d516272",
   "metadata": {},
   "outputs": [],
   "source": [
    "parkinson_ox.drop(['id'], axis = 1, inplace = True) "
   ]
  },
  {
   "cell_type": "code",
   "execution_count": 19,
   "id": "f6a8babb-3f09-46ba-be93-ed5520d5b1d1",
   "metadata": {},
   "outputs": [],
   "source": [
    "y =  parkinson_ox['class']"
   ]
  },
  {
   "cell_type": "code",
   "execution_count": 20,
   "id": "e6aadfbf-262e-4718-bc23-64f7e4189504",
   "metadata": {},
   "outputs": [],
   "source": [
    "parkinson_ox.drop(['class'], axis = 1, inplace = True) "
   ]
  },
  {
   "cell_type": "code",
   "execution_count": 21,
   "id": "50ce89d3-a335-487e-af85-10ae98c3c49c",
   "metadata": {},
   "outputs": [],
   "source": [
    "X = parkinson_ox.copy()"
   ]
  },
  {
   "cell_type": "code",
   "execution_count": 22,
   "id": "da5848f2-b170-48b9-b8f0-0d88a9b07052",
   "metadata": {},
   "outputs": [],
   "source": [
    "y = y.copy()"
   ]
  },
  {
   "cell_type": "code",
   "execution_count": 23,
   "id": "b8798777-e668-41a5-ae5b-bed63ffda7c6",
   "metadata": {},
   "outputs": [
    {
     "name": "stdout",
     "output_type": "stream",
     "text": [
      "Train set: (604, 753) (604,)\n",
      "Test set: (152, 753) (152,)\n"
     ]
    }
   ],
   "source": [
    "X_train, X_test, y_train, y_test = train_test_split( X, y, test_size=0.2, random_state=4, stratify=y)\n",
    "print ('Train set:', X_train.shape,  y_train.shape)\n",
    "print ('Test set:', X_test.shape,  y_test.shape)"
   ]
  },
  {
   "cell_type": "code",
   "execution_count": 24,
   "id": "887a6f9d-4f74-4bc9-ac12-11b5f1038d78",
   "metadata": {},
   "outputs": [],
   "source": [
    "scaler = StandardScaler() "
   ]
  },
  {
   "cell_type": "code",
   "execution_count": 25,
   "id": "bf9f2c9f-647e-49f7-9793-e4998cc57928",
   "metadata": {},
   "outputs": [],
   "source": [
    "X_train = scaler.fit_transform(X_train.to_numpy())"
   ]
  },
  {
   "cell_type": "code",
   "execution_count": 26,
   "id": "ce511e2a-62f9-4603-8dab-08e550fc6464",
   "metadata": {},
   "outputs": [],
   "source": [
    "X_test =  scaler.transform(X_test.to_numpy()) "
   ]
  },
  {
   "cell_type": "code",
   "execution_count": 27,
   "id": "70d2d278-72f9-45ab-9d5b-317c468a8e6f",
   "metadata": {},
   "outputs": [
    {
     "data": {
      "text/plain": [
       "(604, 753)"
      ]
     },
     "execution_count": 27,
     "metadata": {},
     "output_type": "execute_result"
    }
   ],
   "source": [
    "X_train = np.asarray(X_train)\n",
    "X_train.shape "
   ]
  },
  {
   "cell_type": "code",
   "execution_count": 28,
   "id": "463e2a0f-ae6b-4d80-ac20-ef5292cd6a09",
   "metadata": {},
   "outputs": [
    {
     "data": {
      "text/plain": [
       "(152, 753)"
      ]
     },
     "execution_count": 28,
     "metadata": {},
     "output_type": "execute_result"
    }
   ],
   "source": [
    "X_test = np.asarray(X_test)\n",
    "X_test.shape"
   ]
  },
  {
   "cell_type": "code",
   "execution_count": 29,
   "id": "b5f77653-2749-43a3-88a0-5f67ca8b98aa",
   "metadata": {},
   "outputs": [],
   "source": [
    "from snapml import RandomForestClassifier as SnapForest\n",
    "\n",
    "\n",
    "rf = SnapForest(n_estimators=10, criterion='gini', \n",
    "                            max_depth=4, min_samples_leaf=1, \n",
    "                            max_features='auto', bootstrap=True, \n",
    "                            n_jobs=1, random_state=None, verbose=False, \n",
    "                            use_histograms=False, hist_nbins=256, \n",
    "                            use_gpu=False, gpu_ids=[0], \n",
    "                            compress_trees=False)\n"
   ]
  },
  {
   "cell_type": "code",
   "execution_count": 30,
   "id": "f2de3b2e-c49f-459e-9a62-777d2acc5d8e",
   "metadata": {},
   "outputs": [],
   "source": [
    "clf = rf.fit(X_train, np.asarray(y_train))"
   ]
  },
  {
   "cell_type": "code",
   "execution_count": 31,
   "id": "da945c8a-30ab-4eca-a088-e55594be98cb",
   "metadata": {},
   "outputs": [
    {
     "data": {
      "text/plain": [
       "array([1, 1, 0, 1, 0], dtype=int64)"
      ]
     },
     "execution_count": 31,
     "metadata": {},
     "output_type": "execute_result"
    }
   ],
   "source": [
    "yhat = clf.predict(X_test)\n",
    "yhat [0:5]"
   ]
  },
  {
   "cell_type": "code",
   "execution_count": 32,
   "id": "5fd50a94-26fd-44ee-bb68-d53e24e2d26a",
   "metadata": {},
   "outputs": [],
   "source": [
    "from sklearn.metrics import classification_report, confusion_matrix\n",
    "import itertools\n",
    "def plot_confusion_matrix(cm, classes,\n",
    "                          normalize=False,\n",
    "                          title='Confusion matrix',\n",
    "                          cmap=plt.cm.Blues):\n",
    "   \n",
    "    if normalize:\n",
    "        cm = cm.astype('float') / cm.sum(axis=1)[:, np.newaxis]\n",
    "        print(\"Normalized confusion matrix\")\n",
    "    else:\n",
    "        print('Confusion matrix, without normalization')\n",
    "\n",
    "    print(cm)\n",
    "\n",
    "    plt.imshow(cm, interpolation='nearest', cmap=cmap)\n",
    "    plt.title(title)\n",
    "    plt.colorbar()\n",
    "    tick_marks = np.arange(len(classes))\n",
    "    plt.xticks(tick_marks, classes, rotation=45)\n",
    "    plt.yticks(tick_marks, classes)\n",
    "\n",
    "    fmt = '.2f' if normalize else 'd'\n",
    "    thresh = cm.max() / 2.\n",
    "    for i, j in itertools.product(range(cm.shape[0]), range(cm.shape[1])):\n",
    "        plt.text(j, i, format(cm[i, j], fmt),\n",
    "                 horizontalalignment=\"center\",\n",
    "                 color=\"white\" if cm[i, j] > thresh else \"black\")\n",
    "\n",
    "    plt.tight_layout()\n",
    "    plt.ylabel('True label')\n",
    "    plt.xlabel('Predicted label')\n"
   ]
  },
  {
   "cell_type": "code",
   "execution_count": 33,
   "id": "e2138c67-e4e3-49e8-b31b-3bdcb4954aac",
   "metadata": {},
   "outputs": [
    {
     "name": "stdout",
     "output_type": "stream",
     "text": [
      "              precision    recall  f1-score   support\n",
      "\n",
      "           0       0.90      0.46      0.61        39\n",
      "           1       0.84      0.98      0.91       113\n",
      "\n",
      "    accuracy                           0.85       152\n",
      "   macro avg       0.87      0.72      0.76       152\n",
      "weighted avg       0.86      0.85      0.83       152\n",
      "\n",
      "Confusion matrix, without normalization\n",
      "[[ 18  21]\n",
      " [  2 111]]\n",
      "Accuracy: 0.8487\n",
      "Jaccard score: 0.8284\n",
      "Precision: 0.8409\n",
      "Recall: 0.9823\n",
      "Avg F1-score: 0.8302\n"
     ]
    },
    {
     "data": {
      "image/png": "[encoded data removed]",
      "text/plain": [
       "<Figure size 1100x500 with 2 Axes>"
      ]
     },
     "metadata": {},
     "output_type": "display_data"
    }
   ],
   "source": [
    "cnf_matrix = confusion_matrix(y_test, yhat)\n",
    "\n",
    "\n",
    "print (classification_report(y_test, yhat,labels=np.unique(yhat)))\n",
    "\n",
    "plt.figure(figsize=(11,5))\n",
    "plot_confusion_matrix(cnf_matrix, ['absent','present'],normalize= False,  title='Confusion matrix')\n",
    "from sklearn.metrics import f1_score, precision_score, jaccard_score, accuracy_score, recall_score \n",
    "print(\"Accuracy: %.4f\" % accuracy_score(y_test, yhat))\n",
    "print(\"Jaccard score: %.4f\" % jaccard_score(y_test, yhat))\n",
    "print(\"Precision: %.4f\" % precision_score(y_test, yhat))\n",
    "print(\"Recall: %.4f\" % recall_score(y_test, yhat))\n",
    "print(\"Avg F1-score: %.4f\" % f1_score(y_test, yhat, average='weighted'))\n"
   ]
  },
  {
   "cell_type": "code",
   "execution_count": 34,
   "id": "75001a1e-1bed-4441-9d07-3decd3d661f3",
   "metadata": {},
   "outputs": [
    {
     "name": "stdout",
     "output_type": "stream",
     "text": [
      "Accuracy: 0.8618\n",
      "Jaccard score: 0.8359\n",
      "Precision: 0.8770\n",
      "Recall: 0.9469\n",
      "Avg F1-score: 0.8555\n"
     ]
    }
   ],
   "source": [
    "from snapml import BoostingMachineClassifier as BoostMachine\n",
    "\n",
    "Booting_clf = BoostMachine(n_jobs=1, num_round=100, max_depth=4, \n",
    "                                 min_max_depth=1, max_max_depth=5, early_stopping_rounds=10, \n",
    "                                 random_state=0, base_score=None, learning_rate=0.1, verbose=False, \n",
    "                                 compress_trees=False, class_weight=None, use_histograms=True, \n",
    "                                 hist_nbins=256, use_gpu=False, gpu_ids=[0], colsample_bytree=1.0,\n",
    "                                 subsample=1.0, lambda_l2=0.0, \n",
    "                                 tree_select_probability=1.0, regularizer=1.0,\n",
    "                                 fit_intercept=False, gamma=1.0, n_components=10)\n",
    "\n",
    "\n",
    "Booting_clf.fit(X_train, y_train) \n",
    "yhat2 = Booting_clf.predict(X_test)\n",
    "\n",
    "print(\"Accuracy: %.4f\" % accuracy_score(y_test, yhat2))\n",
    "print(\"Jaccard score: %.4f\" % jaccard_score(y_test, yhat2))\n",
    "print(\"Precision: %.4f\" % precision_score(y_test, yhat2))\n",
    "print(\"Recall: %.4f\" % recall_score(y_test, yhat2))\n",
    "print(\"Avg F1-score: %.4f\" % f1_score(y_test, yhat2, average='weighted'))\n"
   ]
  },
  {
   "cell_type": "code",
   "execution_count": 35,
   "id": "314d99e3-e23a-4207-92f3-9a353e7ff965",
   "metadata": {},
   "outputs": [
    {
     "name": "stdout",
     "output_type": "stream",
     "text": [
      "              precision    recall  f1-score   support\n",
      "\n",
      "           0       0.80      0.62      0.70        39\n",
      "           1       0.88      0.95      0.91       113\n",
      "\n",
      "    accuracy                           0.86       152\n",
      "   macro avg       0.84      0.78      0.80       152\n",
      "weighted avg       0.86      0.86      0.86       152\n",
      "\n",
      "Confusion matrix, without normalization\n",
      "[[ 24  15]\n",
      " [  6 107]]\n"
     ]
    },
    {
     "data": {
      "image/png": "[encoded data removed]",
      "text/plain": [
       "<Figure size 1100x500 with 2 Axes>"
      ]
     },
     "metadata": {},
     "output_type": "display_data"
    }
   ],
   "source": [
    "cnf_matrix = confusion_matrix(y_test, yhat2)\n",
    "print (classification_report(y_test, yhat2,labels=np.unique(yhat2)))\n",
    "plt.figure(figsize=(11,5))\n",
    "plot_confusion_matrix(cnf_matrix, classes=['absent','present'],normalize= False,  title='Confusion matrix')\n"
   ]
  },
  {
   "cell_type": "code",
   "execution_count": 36,
   "id": "b8c5e89c-39d4-4265-8ae3-326956f9021a",
   "metadata": {},
   "outputs": [],
   "source": [
    "import pickle\n",
    "with open('Parkinson_ox(RF-snapML).pickle', 'wb') as to_write:\n",
    "    pickle.dump(rf, to_write) \n",
    "\n",
    "with open('Parkinson_ox(RF-snapML).pickle', 'rb') as to_read:\n",
    "    rf_snapML = pickle.load(to_read)"
   ]
  },
  {
   "cell_type": "code",
   "execution_count": null,
   "id": "6c32c3e6-73b4-428a-97ce-7bf9cfd87f18",
   "metadata": {},
   "outputs": [],
   "source": [
    "import pickle\n",
    "\n",
    "\n",
    "with open('Parkinson_ox(Boost-snapML).pickle', 'wb') as to_write:\n",
    "    pickle.dump(Booting_clf, to_write) \n",
    "\n",
    "with open('Parkinson_ox(Boost-snapML).pickle', 'rb') as to_read:\n",
    "    boosting_snapML = pickle.load(to_read)"
   ]
  }
 ],
 "metadata": {
  "kernelspec": {
   "display_name": "Python 3 (ipykernel)",
   "language": "python",
   "name": "python3"
  },
  "language_info": {
   "codemirror_mode": {
    "name": "ipython",
    "version": 3
   },
   "file_extension": ".py",
   "mimetype": "text/x-python",
   "name": "python",
   "nbconvert_exporter": "python",
   "pygments_lexer": "ipython3",
   "version": "3.11.4"
  }
 },
 "nbformat": 4,
 "nbformat_minor": 5
}
